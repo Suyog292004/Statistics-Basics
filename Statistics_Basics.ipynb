{
  "nbformat": 4,
  "nbformat_minor": 0,
  "metadata": {
    "colab": {
      "provenance": []
    },
    "kernelspec": {
      "name": "python3",
      "display_name": "Python 3"
    },
    "language_info": {
      "name": "python"
    }
  },
  "cells": [
    {
      "cell_type": "markdown",
      "source": [
        "1.What is statistics, and why is it important\n",
        "- Statistics is a branch of mathematics that deals with collecting, organizing, analyzing, interpreting, and presenting data and Helps businesses, governments, and individuals make data-driven decisions"
      ],
      "metadata": {
        "id": "Kr3ofyILZ9Kc"
      }
    },
    {
      "cell_type": "markdown",
      "source": [
        "2.What are the two main types of statistics\n",
        "-  Descriptive Statistics to summarize and describe the main features of a dataset\n",
        "- Inferential Statistics to make predictions or inferences about a population based on a sample"
      ],
      "metadata": {
        "id": "aUMc3DMvaUVk"
      }
    },
    {
      "cell_type": "markdown",
      "source": [
        "3.What are descriptive statistics\n",
        "- Descriptive statistics are methods used to summarize, organize, and present data in an informative way. They help you understand the main features of a dataset without making predictions or conclusions beyond the data"
      ],
      "metadata": {
        "id": "YWXX1tJiaxO_"
      }
    },
    {
      "cell_type": "markdown",
      "source": [
        "4.What is inferential statistics\n",
        "- Inferential statistics is the branch of statistics that deals with drawing conclusions, making predictions, or testing hypotheses about a population based on data collected from a sample"
      ],
      "metadata": {
        "id": "WEPVbsCta5SF"
      }
    },
    {
      "cell_type": "markdown",
      "source": [
        "5.What is sampling in statistics\n",
        "- Sampling is the process of selecting a subset from a larger group in order to analyze it and make inferences about the whole population"
      ],
      "metadata": {
        "id": "9djHCk8PbCmQ"
      }
    },
    {
      "cell_type": "markdown",
      "source": [
        "6.What are the different types of sampling methods\n",
        "- In probability sampling, every member of the population has a known and equal chance of being selected. This leads to more reliable and unbiased results\n",
        "- In non-probability sampling, not all members have a chance of being selected. It's easier and faster but less representative and may include bias"
      ],
      "metadata": {
        "id": "d5Imrud8bPtk"
      }
    },
    {
      "cell_type": "markdown",
      "source": [
        "7.What is the difference between random and non-random sampling\n",
        "- Random Sampling is like picking lottery tickets.\n",
        "Non-Random Sampling is like picking people you know are available"
      ],
      "metadata": {
        "id": "hPAo2w3zbkIE"
      }
    },
    {
      "cell_type": "markdown",
      "source": [
        "8.Define and give examples of qualitative and quantitative data\n",
        "- Qualitative data describes qualities, characteristics, or categories that cannot be measured with numbers colour red,blue,green\n",
        "- Quantitative data is numerical and represents quantities or amounts that can be measured or counted age 18,25,42"
      ],
      "metadata": {
        "id": "3eADU9Rtb6Jp"
      }
    },
    {
      "cell_type": "markdown",
      "source": [
        "9.What are the different types of data in statistics\n",
        "- Qualitative Data and Quantitative Data"
      ],
      "metadata": {
        "id": "O_RFH4XkcVrf"
      }
    },
    {
      "cell_type": "markdown",
      "source": [
        "10.Explain nominal, ordinal, interval, and ratio levels of measurement\n",
        "- These four levels represent the hierarchy of measurement in statistics, with each level offering a different degree of precision in categorizing and measuring data"
      ],
      "metadata": {
        "id": "AAoinlXecopB"
      }
    },
    {
      "cell_type": "markdown",
      "source": [
        "11.What is the measure of central tendency\n",
        "- The measures of central tendency are statistical tools used to summarize a set of data by identifying the center or average of the data distribution. These measures help to describe the typical or central value in a dataset\n"
      ],
      "metadata": {
        "id": "Fn9t1RKZc0Ga"
      }
    },
    {
      "cell_type": "markdown",
      "source": [
        "12.Define mean, median, and mode\n",
        "- These are the three main measures of central tendency used to summarize data by identifying the center or typical value"
      ],
      "metadata": {
        "id": "miJLar8qc8Mv"
      }
    },
    {
      "cell_type": "markdown",
      "source": [
        "13.What is the significance of the measure of central tendency\n",
        "- The measures of central tendency mean, median, and mode are crucial in statistics because they provide a single value that represents the center of a dataset. Understanding the central tendency is vital for summarizing data and making comparisons"
      ],
      "metadata": {
        "id": "QJl3-rXQdIia"
      }
    },
    {
      "cell_type": "markdown",
      "source": [
        "14.What is variance, and how is it calculated\n",
        "- Variance is a statistical measure that represents the spread or dispersion of a dataset. It measures how much the individual data points deviate from the mean of the dataset. A higher variance means that the data points are spread out more widely from the mean, whereas a lower variance means the data points are closer to the mean"
      ],
      "metadata": {
        "id": "5tmpRsxidQ9F"
      }
    },
    {
      "cell_type": "markdown",
      "source": [
        "15.What is standard deviation, and why is it important\n",
        "- Standard deviation is a measure of the spread or dispersion of a set of data points around the mean. It is the square root of the variance. Standard deviation is commonly used because it is in the same unit as the original data, making it more interpretable compared to variance, which is in squared units"
      ],
      "metadata": {
        "id": "JN0rztumdcJi"
      }
    },
    {
      "cell_type": "markdown",
      "source": [
        "16.Define and explain the term range in statistics\n",
        "- The range is a measure of the spread or dispersion of a dataset. It is defined as the difference between the largest and smallest values in a dataset. While it is a simple and quick way to measure variability, it is also quite sensitive to outliers"
      ],
      "metadata": {
        "id": "JULpG-FKdinm"
      }
    },
    {
      "cell_type": "markdown",
      "source": [
        "17.What is the difference between variance and standard deviation\n",
        "- Standard deviation is preferred in most real-world applications because it’s easier to interpret\n",
        "- Variance is more useful in statistical analysis and theoretical models, especially when working with distributions or performing statistical tests"
      ],
      "metadata": {
        "id": "8t71VvxodvoI"
      }
    },
    {
      "cell_type": "markdown",
      "source": [
        "18.What is skewness in a dataset\n",
        "- Skewness refers to the asymmetry or lack of symmetry in the distribution of data. It indicates whether the data is skewed to the left negatively skewed or to the right positively skewed relative to the mean. In simple terms, skewness tells us if the data is \"lopsided\" or if the distribution of values is uneven around the center"
      ],
      "metadata": {
        "id": "j4QfGtxaeAeD"
      }
    },
    {
      "cell_type": "markdown",
      "source": [
        "19.What does it mean if a dataset is positively or negatively skewed\n",
        "- Skewness describes the asymmetry of a dataset's distribution. When a dataset is skewed, the data is not symmetrical around the mean. The direction of skewness tells us about the nature of the tail of the distribution"
      ],
      "metadata": {
        "id": "gdmWJP7BeKpC"
      }
    },
    {
      "cell_type": "markdown",
      "source": [
        "20.Define and explain kurtosis\n",
        "- Kurtosis is a statistical measure that describes the shape of the distribution's tails and the peak of the data. Specifically, it indicates how heavy or light the tails of the distribution are compared to a normal distribution. Essentially, kurtosis provides insight into the presence of outliers in the dataset and the overall shape of the distribution"
      ],
      "metadata": {
        "id": "sA1lDfUeeXKB"
      }
    },
    {
      "cell_type": "markdown",
      "source": [
        "21.What is the purpose of covariance\n",
        "- Covariance is a statistical measure used to determine the relationship between two random variables. Specifically, it indicates whether the two variables tend to increase or decrease together or if they have an inverse relationship. Essentially, covariance helps you understand whether two variables move in the same direction or in opposite directions"
      ],
      "metadata": {
        "id": "vL7heM8ree12"
      }
    },
    {
      "cell_type": "markdown",
      "source": [
        "22.What does correlation measure in statistics\n",
        "- Correlation is a statistical measure that quantifies the degree to which two variables are related. Specifically, it indicates the strength and direction of a linear relationship between the variables. Unlike covariance, which only tells the direction of the relationshi"
      ],
      "metadata": {
        "id": "VT3btQcAeqQ_"
      }
    },
    {
      "cell_type": "markdown",
      "source": [
        "23.What is the difference between covariance and correlation\n",
        "- Both covariance and correlation are measures that assess the relationship between two variables, but they differ in terms of scale, interpretation, and standardization\n"
      ],
      "metadata": {
        "id": "bj5D_fTtezJ-"
      }
    },
    {
      "cell_type": "markdown",
      "source": [
        "24.What are some real-world applications of statistics\n",
        "- Statistics plays a crucial role in numerous fields and industries by helping us make informed decisions based on data. Here are some key real-world applications of statistics across different domains"
      ],
      "metadata": {
        "id": "kjspX6Hqe9df"
      }
    },
    {
      "cell_type": "code",
      "source": [
        "#2.Write a Python program to compute the variance and standard deviation of a dataset\n",
        "import math\n",
        "\n",
        "# Function to calculate variance\n",
        "def calculate_variance(data):\n",
        "    mean = sum(data) / len(data)\n",
        "    squared_diff = [(x - mean) ** 2 for x in data]\n",
        "    variance = sum(squared_diff) / len(data)  # For population variance\n",
        "    return variance\n",
        "\n",
        "# Function to calculate standard deviation\n",
        "def calculate_standard_deviation(data):\n",
        "    variance = calculate_variance(data)\n",
        "    return math.sqrt(variance)\n",
        "\n",
        "# Sample dataset\n",
        "data = [3, 5, 7, 8, 10]\n",
        "\n",
        "# Calculate variance and standard deviation\n",
        "variance = calculate_variance(data)\n",
        "standard_deviation = calculate_standard_deviation(data)\n",
        "\n",
        "# Output results\n",
        "print(\"Dataset:\", data)\n",
        "print(\"Variance:\", variance)\n",
        "print(\"Standard Deviation:\", standard_deviation)\n"
      ],
      "metadata": {
        "colab": {
          "base_uri": "https://localhost:8080/"
        },
        "id": "OQW5-J34f_7z",
        "outputId": "cbae7117-37a6-442e-ae3f-2fd097bc01a4"
      },
      "execution_count": 1,
      "outputs": [
        {
          "output_type": "stream",
          "name": "stdout",
          "text": [
            "Dataset: [3, 5, 7, 8, 10]\n",
            "Variance: 5.84\n",
            "Standard Deviation: 2.4166091947189146\n"
          ]
        }
      ]
    },
    {
      "cell_type": "code",
      "source": [
        "#5.Write a Python function to calculate the range of a dataset\n",
        "# Function to calculate range of a dataset\n",
        "def calculate_range(data):\n",
        "    return max(data) - min(data)\n",
        "\n",
        "# Sample dataset\n",
        "data = [3, 5, 7, 8, 10]\n",
        "\n",
        "# Calculate range\n",
        "dataset_range = calculate_range(data)\n",
        "\n",
        "# Output result\n",
        "print(\"Dataset:\", data)\n",
        "print(\"Range:\", dataset_range)\n"
      ],
      "metadata": {
        "colab": {
          "base_uri": "https://localhost:8080/"
        },
        "id": "hqUSrkjVgXxn",
        "outputId": "5b38df37-385b-438d-ba81-391774f1e369"
      },
      "execution_count": 2,
      "outputs": [
        {
          "output_type": "stream",
          "name": "stdout",
          "text": [
            "Dataset: [3, 5, 7, 8, 10]\n",
            "Range: 7\n"
          ]
        }
      ]
    },
    {
      "cell_type": "code",
      "source": [
        "#7.Calculate skewness and kurtosis of a dataset using Python libraries\n",
        "import numpy as np\n",
        "from scipy import stats\n",
        "\n",
        "# Sample dataset\n",
        "data = [3, 5, 7, 8, 10, 12, 15, 18, 20, 25]\n",
        "\n",
        "# Calculate skewness\n",
        "skewness = stats.skew(data)\n",
        "\n",
        "# Calculate kurtosis\n",
        "kurtosis = stats.kurtosis(data)\n",
        "\n",
        "# Output results\n",
        "print(\"Dataset:\", data)\n",
        "print(\"Skewness:\", skewness)\n",
        "print(\"Kurtosis:\", kurtosis)\n"
      ],
      "metadata": {
        "colab": {
          "base_uri": "https://localhost:8080/"
        },
        "id": "hhhm94Xkgi-v",
        "outputId": "5120b961-bbf5-48f4-887d-c24a7f12cd45"
      },
      "execution_count": 3,
      "outputs": [
        {
          "output_type": "stream",
          "name": "stdout",
          "text": [
            "Dataset: [3, 5, 7, 8, 10, 12, 15, 18, 20, 25]\n",
            "Skewness: 0.4197052999554404\n",
            "Kurtosis: -0.939387040966531\n"
          ]
        }
      ]
    },
    {
      "cell_type": "code",
      "source": [
        "#9.Write a Python script to calculate covariance between two datasets\n",
        "import numpy as np\n",
        "\n",
        "# Sample datasets\n",
        "data1 = [3, 5, 7, 8, 10]\n",
        "data2 = [2, 4, 6, 8, 11]\n",
        "\n",
        "# Calculate covariance matrix\n",
        "cov_matrix = np.cov(data1, data2)\n",
        "\n",
        "# Extract the covariance value between data1 and data2 (off-diagonal element)\n",
        "covariance = cov_matrix[0, 1]\n",
        "\n",
        "# Output results\n",
        "print(\"Dataset 1:\", data1)\n",
        "print(\"Dataset 2:\", data2)\n",
        "print(\"Covariance between the two datasets:\", covariance)\n"
      ],
      "metadata": {
        "colab": {
          "base_uri": "https://localhost:8080/"
        },
        "id": "ucDQZqecg4sX",
        "outputId": "1206324d-27c6-4085-b392-816fa996cf6f"
      },
      "execution_count": 4,
      "outputs": [
        {
          "output_type": "stream",
          "name": "stdout",
          "text": [
            "Dataset 1: [3, 5, 7, 8, 10]\n",
            "Dataset 2: [2, 4, 6, 8, 11]\n",
            "Covariance between the two datasets: 9.35\n"
          ]
        }
      ]
    }
  ]
}